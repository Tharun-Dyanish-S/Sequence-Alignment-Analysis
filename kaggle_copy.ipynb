{
 "cells": [
  {
   "cell_type": "code",
   "execution_count": 1,
   "metadata": {},
   "outputs": [
    {
     "name": "stderr",
     "output_type": "stream",
     "text": [
      "/home/monster0811/.local/lib/python3.10/site-packages/Bio/pairwise2.py:278: BiopythonDeprecationWarning: Bio.pairwise2 has been deprecated, and we intend to remove it in a future release of Biopython. As an alternative, please consider using Bio.Align.PairwiseAligner as a replacement, and contact the Biopython developers if you still need the Bio.pairwise2 module.\n",
      "  warnings.warn(\n"
     ]
    }
   ],
   "source": [
    "import os\n",
    "import re\n",
    "import sys\n",
    "import numpy as np\n",
    "from Bio import SeqIO\n",
    "from Bio.Seq import Seq\n",
    "from Bio.SeqRecord import SeqRecord\n",
    "#pairwise also \n",
    "from Bio import pairwise2\n",
    "import multiprocessing\n",
    "from multiprocessing import Pool\n",
    "import time\n",
    "import argparse\n",
    "import subprocess\n",
    "import pandas as pd"
   ]
  },
  {
   "cell_type": "code",
   "execution_count": 2,
   "metadata": {},
   "outputs": [],
   "source": [
    "# def generate_minhash_signature(k, n, num_hashes):\n",
    "#     \"\"\"Generate MinHash signature for the files\"\"\"\n",
    "#     signature = []\n",
    "#     for i in range(k):\n",
    "#         with open(f'file{i}.txt', 'r') as file:\n",
    "#             lines = file.readlines()\n",
    "#             data = [int(line.strip()) for line in lines]\n",
    "\n",
    "#         minhash = [float('inf')] * num_hashes  # Initialize with infinity\n",
    "\n",
    "#         # Generate hash values using different hash functions\n",
    "#         for num in data:\n",
    "#             for j in range(num_hashes):\n",
    "#                 hash_val = int(hashlib.sha256(str(num).encode() + str(j).encode()).hexdigest(), 16)\n",
    "#                 minhash[j] = min(minhash[j], hash_val)\n",
    "\n",
    "#         signature.append(minhash)\n",
    "\n",
    "#     return signature\n",
    "\n",
    "\n",
    "#i want to do this for fasta files sequences \n",
    "data = {}"
   ]
  },
  {
   "cell_type": "code",
   "execution_count": 3,
   "metadata": {},
   "outputs": [],
   "source": [
    "def get_fasta_files(directory):\n",
    "    files = os.listdir(directory)\n",
    "    fasta_files = []\n",
    "    for file in files:\n",
    "        if re.search(r\"\\.fasta$\", file):\n",
    "            fasta_files.append(file)\n",
    "    return fasta_files"
   ]
  },
  {
   "cell_type": "code",
   "execution_count": 4,
   "metadata": {},
   "outputs": [],
   "source": [
    "fasta_files = get_fasta_files(\"chi\")"
   ]
  },
  {
   "cell_type": "code",
   "execution_count": 5,
   "metadata": {},
   "outputs": [],
   "source": [
    "for file in fasta_files:\n",
    "    with open(\"chi/\" + file, \"r\") as f:\n",
    "        data[file] = {}"
   ]
  },
  {
   "cell_type": "code",
   "execution_count": 6,
   "metadata": {},
   "outputs": [],
   "source": [
    "from Bio import SeqIO\n",
    "for file in fasta_files:\n",
    "    for record in SeqIO.parse(\"chi/\" + file, \"fasta\"):\n",
    "        data[file][record.id] = str(record.seq)"
   ]
  },
  {
   "cell_type": "code",
   "execution_count": 7,
   "metadata": {},
   "outputs": [],
   "source": [
    "sequences = []\n",
    "labels = []\n",
    "for file in data:\n",
    "    for header in data[file]:\n",
    "        sequences.append(data[file][header])\n",
    "        labels.append(header)"
   ]
  },
  {
   "cell_type": "code",
   "execution_count": 8,
   "metadata": {},
   "outputs": [
    {
     "name": "stdout",
     "output_type": "stream",
     "text": [
      "{'C', 'S', 'K', 'W', 'G', 'N', 'T', 'Y', 'M', 'R', 'A'}\n"
     ]
    }
   ],
   "source": [
    "#Now I want to encode the sequences using integers \n",
    "#Find the unique characters in the sequences\n",
    "unique_chars = set()\n",
    "for seq in sequences:\n",
    "    for char in seq:\n",
    "        unique_chars.add(char)\n",
    "\n",
    "print(unique_chars)"
   ]
  },
  {
   "cell_type": "code",
   "execution_count": 11,
   "metadata": {},
   "outputs": [],
   "source": [
    "dict_encode = {}\n",
    "dict_encode[\"A\"] = 0\n",
    "dict_encode[\"C\"] = 1\n",
    "dict_encode[\"G\"] = 2\n",
    "dict_encode[\"T\"] = 3\n",
    "dict_encode[\"N\"] = 4\n",
    "dict_encode[\"K\"] = 5\n",
    "dict_encode[\"M\"] = 6\n",
    "dict_encode[\"R\"] = 7\n",
    "dict_encode[\"Y\"] = 8\n",
    "dict_encode[\"S\"] = 9\n",
    "dict_encode[\"W\"] = 9"
   ]
  },
  {
   "cell_type": "code",
   "execution_count": 15,
   "metadata": {},
   "outputs": [],
   "source": [
    "#Now I want to encode the sequences\n",
    "encoded_sequences = []\n",
    "for seq in sequences:\n",
    "    encoded_seq = \"\"\n",
    "    for char in seq:\n",
    "        encoded_seq += str(dict_encode[char])\n",
    "    encoded_sequences.append(encoded_seq)"
   ]
  },
  {
   "cell_type": "code",
   "execution_count": 51,
   "metadata": {},
   "outputs": [
    {
     "name": "stderr",
     "output_type": "stream",
     "text": [
      "100%|██████████| 600/600 [00:00<00:00, 1226.19it/s]\n"
     ]
    }
   ],
   "source": [
    "#Now in the \"text_files_draft\" I want to create text files with the encoded sequences\n",
    "#filei should contain the encoded sequence of sequences[i] in a single line\n",
    "from tqdm import tqdm\n",
    "for i in tqdm(range(len(encoded_sequences))):\n",
    "    with open(\"text_files_draft/file\" + str(i) + \".txt\", \"w\") as f:\n",
    "        for char in encoded_sequences[i]:\n",
    "            f.write(char + \"\\n\")"
   ]
  },
  {
   "cell_type": "code",
   "execution_count": 52,
   "metadata": {},
   "outputs": [],
   "source": [
    "import hashlib"
   ]
  },
  {
   "cell_type": "code",
   "execution_count": 53,
   "metadata": {},
   "outputs": [],
   "source": [
    "def generate_minhash_signature(k, n, num_hashes):\n",
    "    \"\"\"Generate MinHash signature for the files\"\"\"\n",
    "    signature = []\n",
    "    for i in range(k):\n",
    "        with open(f'text_files_draft/file{i}.txt', 'r') as file:\n",
    "            lines = file.readlines()\n",
    "            data = [int(line.strip()) for line in lines]\n",
    "\n",
    "        minhash = [float('inf')] * num_hashes  # Initialize with infinity\n",
    "\n",
    "        # Generate hash values using different hash functions\n",
    "        for num in data:\n",
    "            for j in range(num_hashes):\n",
    "                hash_val = int(hashlib.sha256(str(num).encode() + str(j).encode()).hexdigest(), 16)\n",
    "                minhash[j] = min(minhash[j], hash_val)\n",
    "\n",
    "        signature.append(minhash)\n",
    "\n",
    "    return signature"
   ]
  },
  {
   "cell_type": "code",
   "execution_count": 54,
   "metadata": {},
   "outputs": [],
   "source": [
    "def jaccard_similarity(list1, list2):\n",
    "    set1 = set(list1)\n",
    "    set2 = set(list2)\n",
    "    intersection = len(set1.intersection(set2))\n",
    "    union = len(set1.union(set2))\n",
    "    similarity = intersection / union\n",
    "    \n",
    "    return similarity"
   ]
  },
  {
   "cell_type": "code",
   "execution_count": 56,
   "metadata": {},
   "outputs": [
    {
     "name": "stdout",
     "output_type": "stream",
     "text": [
      "10\n"
     ]
    }
   ],
   "source": [
    "num_hashes = 32\n",
    "minhash_signature = generate_minhash_signature(10, 400, num_hashes)\n",
    "print(len(minhash_signature))"
   ]
  },
  {
   "cell_type": "code",
   "execution_count": 23,
   "metadata": {},
   "outputs": [],
   "source": [
    "sys.set_int_max_str_digits(1000000)"
   ]
  },
  {
   "cell_type": "code",
   "execution_count": 57,
   "metadata": {},
   "outputs": [],
   "source": [
    "results_adj = [[0 for i in range(10)] for j in range(10)]\n"
   ]
  },
  {
   "cell_type": "code",
   "execution_count": 61,
   "metadata": {},
   "outputs": [
    {
     "data": {
      "text/plain": [
       "[33592815351635838866227505544683417564162321228075154218315436012476449103317,\n",
       " 36086382269012570414081057885610197198624807447239154225720840125343131365048,\n",
       " 48542053925442562206970678378617219313498267117402160926478466274825158240536,\n",
       " 5228061486908932226632210209044000869953958300726290158676187205325735086821,\n",
       " 49227388366108754026539056524577080060162897886300886731715804805895659173056,\n",
       " 71953096121200381858190606868033578978002462554343674489942508713932245649747,\n",
       " 43245864246510675257312248132617625559829538603954510829955139939433940403402,\n",
       " 11620557767746015736841910758982332764899790446639126951736244978155058661397,\n",
       " 22713728285139926135536087108694117274030241282423681027698142237296734904014,\n",
       " 5232581527863235096587321474292674180630556774295345035650804382406877176825,\n",
       " 8794256433647612601947912683678015128081609394946539185888446998157672201121,\n",
       " 4163054995028552258444665509676011599042945042705318415419874625137952516536,\n",
       " 60764014460187776502608796742039662372093899287915634801059848029599916437701,\n",
       " 49029225509934586933612756415162334957194457314228142079666444370478302770635,\n",
       " 51867340215141760137854569662339692081537051229694771761805848107566550710157,\n",
       " 18479286318845171258277903805109270653857642486872926279823774680656305830932,\n",
       " 6899771178439902630647924994468147828609640455688939386791471581864983660152,\n",
       " 10281060653773797506572267490151631777822794184516352158223552147571431942648,\n",
       " 31601091751929207330761257992015896807467827567523475320538182478961885543622,\n",
       " 9669194309052101624695886074161591245984383475781217202575530269157596815246,\n",
       " 19327169317269282520947458917020994056140786556348154067800862951514220422263,\n",
       " 47001249272639590582763372436394219457752211744258718456803841122133235556658,\n",
       " 12608243112755606640715926866690442476109221766298577927961516730516763768523,\n",
       " 10179521820469776220293874022914513068131837731058587526048398504956870813830,\n",
       " 7337499942613542214905327492665999147966091045634340265568770273728111222608,\n",
       " 6511076473541739740657055499581424642012727266315461288021607659512913411688,\n",
       " 23627471752879557912437575523122599796200978147360951063770278907744232420055,\n",
       " 1266190940157953728708675617671981068445245955135603539862874207519917216779,\n",
       " 16429195215693864773289501039494434261767456210420088478048961124911352272960,\n",
       " 3423419661127296947747718930812843996162015480720420239641549244983007202355,\n",
       " 25708381142315786536562075483490421647454718952423910122081246934130849614959,\n",
       " 5305003968584987807058083089890689135216241552506796812095304953484287505681]"
      ]
     },
     "execution_count": 61,
     "metadata": {},
     "output_type": "execute_result"
    }
   ],
   "source": [
    "minhash_signature[0]"
   ]
  },
  {
   "cell_type": "code",
   "execution_count": 62,
   "metadata": {},
   "outputs": [
    {
     "data": {
      "text/plain": [
       "[33592815351635838866227505544683417564162321228075154218315436012476449103317,\n",
       " 36086382269012570414081057885610197198624807447239154225720840125343131365048,\n",
       " 48542053925442562206970678378617219313498267117402160926478466274825158240536,\n",
       " 5228061486908932226632210209044000869953958300726290158676187205325735086821,\n",
       " 49227388366108754026539056524577080060162897886300886731715804805895659173056,\n",
       " 71953096121200381858190606868033578978002462554343674489942508713932245649747,\n",
       " 43245864246510675257312248132617625559829538603954510829955139939433940403402,\n",
       " 11620557767746015736841910758982332764899790446639126951736244978155058661397,\n",
       " 22713728285139926135536087108694117274030241282423681027698142237296734904014,\n",
       " 5232581527863235096587321474292674180630556774295345035650804382406877176825,\n",
       " 8794256433647612601947912683678015128081609394946539185888446998157672201121,\n",
       " 4163054995028552258444665509676011599042945042705318415419874625137952516536,\n",
       " 60764014460187776502608796742039662372093899287915634801059848029599916437701,\n",
       " 49029225509934586933612756415162334957194457314228142079666444370478302770635,\n",
       " 51867340215141760137854569662339692081537051229694771761805848107566550710157,\n",
       " 18479286318845171258277903805109270653857642486872926279823774680656305830932,\n",
       " 6899771178439902630647924994468147828609640455688939386791471581864983660152,\n",
       " 10281060653773797506572267490151631777822794184516352158223552147571431942648,\n",
       " 31601091751929207330761257992015896807467827567523475320538182478961885543622,\n",
       " 9669194309052101624695886074161591245984383475781217202575530269157596815246,\n",
       " 19327169317269282520947458917020994056140786556348154067800862951514220422263,\n",
       " 47001249272639590582763372436394219457752211744258718456803841122133235556658,\n",
       " 12608243112755606640715926866690442476109221766298577927961516730516763768523,\n",
       " 10179521820469776220293874022914513068131837731058587526048398504956870813830,\n",
       " 7337499942613542214905327492665999147966091045634340265568770273728111222608,\n",
       " 6511076473541739740657055499581424642012727266315461288021607659512913411688,\n",
       " 23627471752879557912437575523122599796200978147360951063770278907744232420055,\n",
       " 1266190940157953728708675617671981068445245955135603539862874207519917216779,\n",
       " 16429195215693864773289501039494434261767456210420088478048961124911352272960,\n",
       " 3423419661127296947747718930812843996162015480720420239641549244983007202355,\n",
       " 25708381142315786536562075483490421647454718952423910122081246934130849614959,\n",
       " 5305003968584987807058083089890689135216241552506796812095304953484287505681]"
      ]
     },
     "execution_count": 62,
     "metadata": {},
     "output_type": "execute_result"
    }
   ],
   "source": [
    "minhash_signature[1]"
   ]
  },
  {
   "cell_type": "code",
   "execution_count": 60,
   "metadata": {},
   "outputs": [
    {
     "name": "stdout",
     "output_type": "stream",
     "text": [
      "0.0 minutes\n"
     ]
    }
   ],
   "source": [
    "start = time.time()\n",
    "\n",
    "for i in range(10):\n",
    "    data_1 = minhash_signature[i]\n",
    "    for j in range(i,10):\n",
    "        data_2 = minhash_signature[j]\n",
    "        sim = jaccard_similarity(data_1,data_2)\n",
    "        results_adj[i][j] = sim\n",
    "        results_adj[j][i] = sim\n",
    "        \n",
    "end = time.time()\n",
    "print(\"{} minutes\".format(round((end - start)/60,2)))"
   ]
  },
  {
   "cell_type": "code",
   "execution_count": 59,
   "metadata": {},
   "outputs": [
    {
     "data": {
      "text/plain": [
       "[[1.0, 1.0, 1.0, 1.0, 1.0, 1.0, 1.0, 1.0, 1.0, 1.0],\n",
       " [0, 1.0, 1.0, 1.0, 1.0, 1.0, 1.0, 1.0, 1.0, 1.0],\n",
       " [0, 0, 1.0, 1.0, 1.0, 1.0, 1.0, 1.0, 1.0, 1.0],\n",
       " [0, 0, 0, 1.0, 1.0, 1.0, 1.0, 1.0, 1.0, 1.0],\n",
       " [0, 0, 0, 0, 1.0, 1.0, 1.0, 1.0, 1.0, 1.0],\n",
       " [0, 0, 0, 0, 0, 1.0, 1.0, 1.0, 1.0, 1.0],\n",
       " [0, 0, 0, 0, 0, 0, 1.0, 1.0, 1.0, 1.0],\n",
       " [0, 0, 0, 0, 0, 0, 0, 1.0, 1.0, 1.0],\n",
       " [0, 0, 0, 0, 0, 0, 0, 0, 1.0, 1.0],\n",
       " [0, 0, 0, 0, 0, 0, 0, 0, 0, 1.0]]"
      ]
     },
     "execution_count": 59,
     "metadata": {},
     "output_type": "execute_result"
    }
   ],
   "source": [
    "results_adj"
   ]
  },
  {
   "cell_type": "code",
   "execution_count": 28,
   "metadata": {},
   "outputs": [],
   "source": [
    "adj_new = 1-np.array(results_adj)"
   ]
  },
  {
   "cell_type": "code",
   "execution_count": 41,
   "metadata": {},
   "outputs": [
    {
     "name": "stdout",
     "output_type": "stream",
     "text": [
      "womp 1.0 back 1.0\n",
      "womp 1.0 back 1.0\n",
      "womp 1.0 back 1.0\n",
      "womp 1.0 back 1.0\n",
      "womp 1.0 back 1.0\n",
      "womp 1.0 back 1.0\n",
      "womp 1.0 back 1.0\n",
      "womp 1.0 back 1.0\n",
      "womp 1.0 back 1.0\n",
      "womp 1.0 back 1.0\n"
     ]
    }
   ],
   "source": [
    "for i in range(1,11):\n",
    "    print(\"womp\",adj_new[0][i],\"back\", adj_new[0][599-i])"
   ]
  },
  {
   "cell_type": "code",
   "execution_count": 29,
   "metadata": {},
   "outputs": [
    {
     "name": "stderr",
     "output_type": "stream",
     "text": [
      "/tmp/ipykernel_225632/2278815613.py:17: ClusterWarning: scipy.cluster: The symmetric non-negative hollow observation matrix looks suspiciously like an uncondensed distance matrix\n",
      "  Z = linkage(adj_new, 'ward')\n"
     ]
    },
    {
     "data": {
      "image/png": "[encoded data removed]",
      "text/plain": [
       "<Figure size 1800x720 with 1 Axes>"
      ]
     },
     "metadata": {
      "needs_background": "light"
     },
     "output_type": "display_data"
    }
   ],
   "source": [
    "from scipy.cluster.hierarchy import linkage, dendrogram\n",
    "import matplotlib.pyplot as plt\n",
    "import numpy as np\n",
    "\n",
    "# Z = linkage(adj_new, 'ward')\n",
    "# plt.figure(figsize=(25, 10))\n",
    "# plt.title('Hierarchical Clustering Dendrogram')\n",
    "# plt.xlabel('sample index')\n",
    "# plt.ylabel('distance')\n",
    "# dendrogram(Z, labels=labels, leaf_rotation=90)\n",
    "# plt.show()\n",
    "\n",
    "# #download the dendrogram\n",
    "# plt.savefig(\"dendrogram.png\")\n",
    "\n",
    "#adjust the horizontal scale \n",
    "Z = linkage(adj_new, 'ward')\n",
    "plt.figure(figsize=(25, 10))\n",
    "plt.title('Hierarchical Clustering Dendrogram')\n",
    "plt.xlabel('sample index')\n",
    "plt.ylabel('distance')\n",
    "dendrogram(Z, labels=labels, leaf_rotation=90)\n",
    "plt.show()"
   ]
  },
  {
   "cell_type": "code",
   "execution_count": 37,
   "metadata": {},
   "outputs": [
    {
     "data": {
      "text/plain": [
       "Counter({1: 600})"
      ]
     },
     "execution_count": 37,
     "metadata": {},
     "output_type": "execute_result"
    }
   ],
   "source": [
    "num_clusters = 2\n",
    "from scipy.cluster.hierarchy import fcluster\n",
    "\n",
    "clusters = fcluster(Z, num_clusters, criterion='maxclust')\n",
    "from collections import Counter\n",
    "Counter(clusters)"
   ]
  },
  {
   "cell_type": "code",
   "execution_count": 39,
   "metadata": {},
   "outputs": [
    {
     "data": {
      "text/plain": [
       "array([1, 1, 1, 1, 1, 1, 1, 1, 1, 1, 1, 1, 1, 1, 1, 1, 1, 1, 1, 1, 1, 1,\n",
       "       1, 1, 1, 1, 1, 1, 1, 1, 1, 1, 1, 1, 1, 1, 1, 1, 1, 1, 1, 1, 1, 1,\n",
       "       1, 1, 1, 1, 1, 1, 1, 1, 1, 1, 1, 1, 1, 1, 1, 1, 1, 1, 1, 1, 1, 1,\n",
       "       1, 1, 1, 1, 1, 1, 1, 1, 1, 1, 1, 1, 1, 1, 1, 1, 1, 1, 1, 1, 1, 1,\n",
       "       1, 1, 1, 1, 1, 1, 1, 1, 1, 1, 1, 1, 1, 1, 1, 1, 1, 1, 1, 1, 1, 1,\n",
       "       1, 1, 1, 1, 1, 1, 1, 1, 1, 1, 1, 1, 1, 1, 1, 1, 1, 1, 1, 1, 1, 1,\n",
       "       1, 1, 1, 1, 1, 1, 1, 1, 1, 1, 1, 1, 1, 1, 1, 1, 1, 1, 1, 1, 1, 1,\n",
       "       1, 1, 1, 1, 1, 1, 1, 1, 1, 1, 1, 1, 1, 1, 1, 1, 1, 1, 1, 1, 1, 1,\n",
       "       1, 1, 1, 1, 1, 1, 1, 1, 1, 1, 1, 1, 1, 1, 1, 1, 1, 1, 1, 1, 1, 1,\n",
       "       1, 1, 1, 1, 1, 1, 1, 1, 1, 1, 1, 1, 1, 1, 1, 1, 1, 1, 1, 1, 1, 1,\n",
       "       1, 1, 1, 1, 1, 1, 1, 1, 1, 1, 1, 1, 1, 1, 1, 1, 1, 1, 1, 1, 1, 1,\n",
       "       1, 1, 1, 1, 1, 1, 1, 1, 1, 1, 1, 1, 1, 1, 1, 1, 1, 1, 1, 1, 1, 1,\n",
       "       1, 1, 1, 1, 1, 1, 1, 1, 1, 1, 1, 1, 1, 1, 1, 1, 1, 1, 1, 1, 1, 1,\n",
       "       1, 1, 1, 1, 1, 1, 1, 1, 1, 1, 1, 1, 1, 1, 1, 1, 1, 1, 1, 1, 1, 1,\n",
       "       1, 1, 1, 1, 1, 1, 1, 1, 1, 1, 1, 1, 1, 1, 1, 1, 1, 1, 1, 1, 1, 1,\n",
       "       1, 1, 1, 1, 1, 1, 1, 1, 1, 1, 1, 1, 1, 1, 1, 1, 1, 1, 1, 1, 1, 1,\n",
       "       1, 1, 1, 1, 1, 1, 1, 1, 1, 1, 1, 1, 1, 1, 1, 1, 1, 1, 1, 1, 1, 1,\n",
       "       1, 1, 1, 1, 1, 1, 1, 1, 1, 1, 1, 1, 1, 1, 1, 1, 1, 1, 1, 1, 1, 1,\n",
       "       1, 1, 1, 1, 1, 1, 1, 1, 1, 1, 1, 1, 1, 1, 1, 1, 1, 1, 1, 1, 1, 1,\n",
       "       1, 1, 1, 1, 1, 1, 1, 1, 1, 1, 1, 1, 1, 0, 1, 1, 1, 1, 1, 1, 1, 1,\n",
       "       1, 1, 1, 1, 1, 1, 1, 1, 1, 1, 1, 1, 1, 1, 1, 1, 1, 1, 1, 1, 1, 1,\n",
       "       1, 1, 1, 1, 1, 1, 1, 1, 1, 1, 1, 1, 1, 1, 1, 1, 1, 1, 1, 1, 1, 1,\n",
       "       1, 1, 1, 1, 1, 1, 1, 1, 1, 1, 1, 1, 1, 1, 1, 1, 1, 1, 1, 1, 1, 1,\n",
       "       1, 1, 1, 1, 1, 1, 1, 1, 1, 1, 1, 1, 1, 1, 1, 1, 1, 1, 1, 1, 1, 1,\n",
       "       1, 1, 1, 1, 1, 1, 1, 1, 1, 1, 1, 1, 1, 1, 1, 1, 1, 1, 1, 1, 1, 1,\n",
       "       1, 1, 1, 1, 1, 1, 1, 1, 1, 1, 1, 1, 1, 1, 1, 1, 1, 1, 1, 1, 1, 1,\n",
       "       1, 1, 1, 1, 1, 1, 1, 1, 1, 1, 1, 1, 1, 1, 1, 1, 1, 1, 1, 1, 1, 1,\n",
       "       1, 1, 1, 1, 1, 1], dtype=int32)"
      ]
     },
     "execution_count": 39,
     "metadata": {},
     "output_type": "execute_result"
    }
   ],
   "source": [
    "#Kmeans \n",
    "from sklearn.cluster import KMeans\n",
    "kmeans = KMeans(n_clusters=num_clusters, random_state=0).fit(adj_new)\n",
    "kmeans.labels_"
   ]
  },
  {
   "cell_type": "code",
   "execution_count": 40,
   "metadata": {},
   "outputs": [
    {
     "data": {
      "text/plain": [
       "Counter({1: 599, 0: 1})"
      ]
     },
     "execution_count": 40,
     "metadata": {},
     "output_type": "execute_result"
    }
   ],
   "source": [
    "Counter(kmeans.labels_)"
   ]
  },
  {
   "cell_type": "code",
   "execution_count": null,
   "metadata": {},
   "outputs": [],
   "source": []
  }
 ],
 "metadata": {
  "kernelspec": {
   "display_name": "Python 3",
   "language": "python",
   "name": "python3"
  },
  "language_info": {
   "codemirror_mode": {
    "name": "ipython",
    "version": 3
   },
   "file_extension": ".py",
   "mimetype": "text/x-python",
   "name": "python",
   "nbconvert_exporter": "python",
   "pygments_lexer": "ipython3",
   "version": "3.10.12"
  }
 },
 "nbformat": 4,
 "nbformat_minor": 2
}
